{
 "cells": [
  {
   "cell_type": "code",
   "execution_count": 1,
   "metadata": {},
   "outputs": [],
   "source": [
    "import numpy as np\n",
    "import re"
   ]
  },
  {
   "cell_type": "markdown",
   "metadata": {},
   "source": [
    "## Part 1"
   ]
  },
  {
   "cell_type": "code",
   "execution_count": null,
   "metadata": {},
   "outputs": [],
   "source": [
    "# file = open(\"example.txt\")\n",
    "file = open(\"test.txt\")\n",
    "correct = 161\n",
    "res = 0\n",
    "\n",
    "lines = file.readlines()\n",
    "line = \"\".join(lines)\n",
    "file.close()\n",
    "\n",
    "matches = re.findall(r\"mul\\((\\d+),(\\d+)\\)\", line)\n",
    "print(matches)\n",
    "\n",
    "for m in matches:\n",
    "    res += int(m[0]) * int(m[1])\n",
    "\n",
    "if res == correct:\n",
    "    print(f\"Correct: {res}\")\n",
    "else:\n",
    "    print(f\"Not correct, res {res}, correct {correct}\")\n"
   ]
  },
  {
   "cell_type": "markdown",
   "metadata": {},
   "source": [
    "## Part 2"
   ]
  },
  {
   "cell_type": "code",
   "execution_count": null,
   "metadata": {},
   "outputs": [],
   "source": [
    "# file = open(\"example2.txt\")\n",
    "file = open(\"test.txt\")\n",
    "correct = 48\n",
    "res = 0\n",
    "\n",
    "lines = file.readlines()\n",
    "line = \"\".join(lines)\n",
    "file.close()\n",
    "\n",
    "matches = re.findall(r\"(mul\\((\\d+),(\\d+)\\)|do\\(\\)|don't\\(\\))\", line)\n",
    "print(matches)\n",
    "\n",
    "do = True\n",
    "for m in matches:\n",
    "    if m[0] == \"don't()\":\n",
    "        do = False\n",
    "        continue\n",
    "    \n",
    "    if m[0] == \"do()\":\n",
    "        do = True\n",
    "        continue\n",
    "\n",
    "    if not do:\n",
    "        continue\n",
    "#\n",
    "    res += int(m[1]) * int(m[2])\n",
    "\n",
    "if res == correct:\n",
    "    print(f\"Correct: {res}\")\n",
    "else:\n",
    "    print(f\"Not correct, res {res}, correct {correct}\")\n"
   ]
  }
 ],
 "metadata": {
  "kernelspec": {
   "display_name": "Python 3",
   "language": "python",
   "name": "python3"
  },
  "language_info": {
   "codemirror_mode": {
    "name": "ipython",
    "version": 3
   },
   "file_extension": ".py",
   "mimetype": "text/x-python",
   "name": "python",
   "nbconvert_exporter": "python",
   "pygments_lexer": "ipython3",
   "version": "3.12.0"
  }
 },
 "nbformat": 4,
 "nbformat_minor": 2
}
