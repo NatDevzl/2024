{
 "cells": [
  {
   "cell_type": "code",
   "execution_count": 24,
   "metadata": {},
   "outputs": [],
   "source": [
    "import numpy as np\n",
    "import re\n",
    "from pprint import pprint"
   ]
  },
  {
   "cell_type": "markdown",
   "metadata": {},
   "source": [
    "## Part 1"
   ]
  },
  {
   "cell_type": "code",
   "execution_count": null,
   "metadata": {},
   "outputs": [],
   "source": [
    "file = open(\"example.txt\")\n",
    "# file = open(\"test.txt\")\n",
    "correct = 18\n",
    "res = 0\n",
    "\n",
    "lines = file.readlines()\n",
    "search = []\n",
    "for l in lines:\n",
    "    search.append(list(l.rstrip()))\n",
    "file.close()\n",
    "rows = search\n",
    "columns = np.rot90(rows)\n",
    "diags = []\n",
    "for i in range(-len(rows) + 1, len(rows[0])):\n",
    "    diags.append(np.diag(rows, i))\n",
    "\n",
    "for i in range(-len(columns) + 1, len(columns[0])):\n",
    "    diags.append(np.diag(columns, i))\n",
    "\n",
    "tosearch = rows + list(columns) + diags\n",
    "\n",
    "for r in tosearch:\n",
    "    txt = \"\".join(r)\n",
    "    matches = re.findall(r\"XMAS\", txt)\n",
    "    matchesback = re.findall(r\"SAMX\", txt)\n",
    "    res += len(matches) + len(matchesback)\n",
    "\n",
    "\n",
    "if res == correct:\n",
    "    print(f\"Correct: {res}\")\n",
    "else:\n",
    "    print(f\"Not correct, res {res}, correct {correct}\")\n"
   ]
  },
  {
   "cell_type": "markdown",
   "metadata": {},
   "source": [
    "## Part 2"
   ]
  },
  {
   "cell_type": "code",
   "execution_count": null,
   "metadata": {},
   "outputs": [],
   "source": [
    "# file = open(\"example.txt\")\n",
    "file = open(\"test.txt\")\n",
    "correct = 9\n",
    "res = 0\n",
    "\n",
    "lines = file.readlines()\n",
    "search = []\n",
    "for l in lines:\n",
    "    search.append(list(l.rstrip()))\n",
    "file.close()\n",
    "\n",
    "for y in range(0, len(search) - 2):\n",
    "    for x in range(0, len(search[0]) - 2):\n",
    "        if search[y][x] == \"M\" and search[y+1][x+1] == \"A\" and search[y+2][x+2] == \"S\" and search[y+2][x] == \"S\" and search[y][x+2] == \"M\":\n",
    "            res += 1\n",
    "        if search[y][x] == \"M\" and search[y+1][x+1] == \"A\" and search[y+2][x+2] == \"S\" and search[y+2][x] == \"M\" and search[y][x+2] == \"S\":\n",
    "            res += 1\n",
    "        if search[y][x] == \"S\" and search[y+1][x+1] == \"A\" and search[y+2][x+2] == \"M\" and search[y+2][x] == \"S\" and search[y][x+2] == \"M\":\n",
    "            res += 1\n",
    "        if search[y][x] == \"S\" and search[y+1][x+1] == \"A\" and search[y+2][x+2] == \"M\" and search[y+2][x] == \"M\" and search[y][x+2] == \"S\":\n",
    "            res += 1\n",
    "\n",
    "if res == correct:\n",
    "    print(f\"Correct: {res}\")\n",
    "else:\n",
    "    print(f\"Not correct, res {res}, correct {correct}\")"
   ]
  }
 ],
 "metadata": {
  "kernelspec": {
   "display_name": "Python 3",
   "language": "python",
   "name": "python3"
  },
  "language_info": {
   "codemirror_mode": {
    "name": "ipython",
    "version": 3
   },
   "file_extension": ".py",
   "mimetype": "text/x-python",
   "name": "python",
   "nbconvert_exporter": "python",
   "pygments_lexer": "ipython3",
   "version": "3.12.0"
  }
 },
 "nbformat": 4,
 "nbformat_minor": 2
}
