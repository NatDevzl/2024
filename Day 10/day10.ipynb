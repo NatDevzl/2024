{
 "cells": [
  {
   "cell_type": "code",
   "execution_count": 37,
   "metadata": {},
   "outputs": [],
   "source": [
    "import numpy as np\n",
    "import re\n",
    "from pprint import pprint\n",
    "from enum import Enum\n",
    "from tqdm import tqdm\n",
    "from collections import defaultdict"
   ]
  },
  {
   "cell_type": "markdown",
   "metadata": {},
   "source": [
    "## Part 1"
   ]
  },
  {
   "cell_type": "code",
   "execution_count": 97,
   "metadata": {},
   "outputs": [
    {
     "name": "stdout",
     "output_type": "stream",
     "text": [
      "Not correct, res 550, correct 36\n"
     ]
    }
   ],
   "source": [
    "file = open(\"example.txt\")\n",
    "# file = open(\"example2.txt\")\n",
    "file = open(\"test.txt\")\n",
    "\n",
    "lines = file.readlines()\n",
    "file.close()\n",
    "\n",
    "map_arr = []\n",
    "for l in lines:\n",
    "    map_arr.append([int(x) for x in list(l.rstrip())])\n",
    "\n",
    "\n",
    "directions = [(-1, 0), (1, 0), (0, -1), (0, 1)]\n",
    "\n",
    "res = 0\n",
    "correct = 36\n",
    "\n",
    "\n",
    "def is_valid(x, y, prev_height):\n",
    "    return 0 <= x < len(map_arr) and 0 <= y < len(map_arr[0]) and map_arr[x][y] == prev_height + 1\n",
    "\n",
    "\n",
    "def dfs(x, y, prev_height, visited):\n",
    "    if not is_valid(x, y, prev_height) or (x, y) in visited:\n",
    "        return 0\n",
    "\n",
    "    if map_arr[x][y] == 9:\n",
    "        visited.add((x, y))\n",
    "        return 1\n",
    "\n",
    "    score = 0\n",
    "    for dx, dy in directions:\n",
    "        nx, ny = x + dx, y + dy\n",
    "        score += dfs(nx, ny, map_arr[x][y], visited)\n",
    "    return score\n",
    "\n",
    "    \n",
    "for x in range(len(map_arr)):\n",
    "    for y in range(len(map_arr[0])):\n",
    "        if map_arr[x][y] == 0: \n",
    "            visited = set()  \n",
    "            res += dfs(x, y, -1, visited)\n",
    "\n",
    "\n",
    "if res == correct:\n",
    "    print(f\"Correct: {res}\")\n",
    "else:\n",
    "    print(f\"Not correct, res {res}, correct {correct}\")\n"
   ]
  },
  {
   "cell_type": "markdown",
   "metadata": {},
   "source": [
    "## Part 2"
   ]
  },
  {
   "cell_type": "code",
   "execution_count": 99,
   "metadata": {},
   "outputs": [
    {
     "name": "stdout",
     "output_type": "stream",
     "text": [
      "Not correct, res 1255, correct 81\n"
     ]
    }
   ],
   "source": [
    "file = open(\"example.txt\")\n",
    "# file = open(\"example2.txt\")\n",
    "file = open(\"test.txt\")\n",
    "\n",
    "lines = file.readlines()\n",
    "file.close()\n",
    "\n",
    "map_arr = []\n",
    "for l in lines:\n",
    "    map_arr.append([int(x) for x in list(l.rstrip())])\n",
    "\n",
    "\n",
    "directions = [(-1, 0), (1, 0), (0, -1), (0, 1)]\n",
    "\n",
    "res = 0\n",
    "correct = 81\n",
    "\n",
    "\n",
    "def is_valid(x, y, prev_height):\n",
    "    return 0 <= x < len(map_arr) and 0 <= y < len(map_arr[0]) and map_arr[x][y] == prev_height + 1\n",
    "\n",
    "\n",
    "def dfs(x, y, prev_height):\n",
    "    if not is_valid(x, y, prev_height):\n",
    "        return 0\n",
    "\n",
    "    if map_arr[x][y] == 9:\n",
    "        return 1\n",
    "\n",
    "    score = 0\n",
    "    for dx, dy in directions:\n",
    "        nx, ny = x + dx, y + dy\n",
    "        score += dfs(nx, ny, map_arr[x][y])\n",
    "    return score\n",
    "\n",
    "    \n",
    "for x in range(len(map_arr)):\n",
    "    for y in range(len(map_arr[0])):\n",
    "        if map_arr[x][y] == 0: \n",
    "            res += dfs(x, y, -1)\n",
    "\n",
    "\n",
    "if res == correct:\n",
    "    print(f\"Correct: {res}\")\n",
    "else:\n",
    "    print(f\"Not correct, res {res}, correct {correct}\")\n"
   ]
  }
 ],
 "metadata": {
  "kernelspec": {
   "display_name": "Python 3",
   "language": "python",
   "name": "python3"
  },
  "language_info": {
   "codemirror_mode": {
    "name": "ipython",
    "version": 3
   },
   "file_extension": ".py",
   "mimetype": "text/x-python",
   "name": "python",
   "nbconvert_exporter": "python",
   "pygments_lexer": "ipython3",
   "version": "3.12.0"
  }
 },
 "nbformat": 4,
 "nbformat_minor": 2
}
