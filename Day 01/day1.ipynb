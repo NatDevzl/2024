{
 "cells": [
  {
   "cell_type": "code",
   "execution_count": 4,
   "metadata": {},
   "outputs": [],
   "source": [
    "import numpy as np"
   ]
  },
  {
   "cell_type": "markdown",
   "metadata": {},
   "source": [
    "## Part 1"
   ]
  },
  {
   "cell_type": "code",
   "execution_count": null,
   "metadata": {},
   "outputs": [],
   "source": [
    "# file = open(\"example.txt\")\n",
    "correct = 11\n",
    "file = open(\"test.txt\")\n",
    "res = 0\n",
    "\n",
    "lines = file.readlines()\n",
    "\n",
    "list1 = []\n",
    "list2 = []\n",
    "for l in lines:\n",
    "    spl = [int(x) for x in l.split(\"   \")]\n",
    "    # for i in range(len(spl)):\n",
    "    #     spl[i] = int(spl[i])\n",
    "    print(spl)\n",
    "    list1.append(spl[0])\n",
    "    list2.append(spl[1])\n",
    "\n",
    "\n",
    "list1.sort()\n",
    "list2.sort()\n",
    "\n",
    "for i in range(len(list1)):\n",
    "    res += abs(list1[i] - list2[i])\n",
    "\n",
    "\n",
    "print(list1)\n",
    "print(list2)\n",
    "\n",
    "if res == correct:\n",
    "    print(f\"Correct: {res}\")\n",
    "else:\n",
    "    print(f\"Not correct, res {res}, correct {correct}\")"
   ]
  },
  {
   "cell_type": "markdown",
   "metadata": {},
   "source": [
    "## Part 2"
   ]
  },
  {
   "cell_type": "code",
   "execution_count": null,
   "metadata": {},
   "outputs": [],
   "source": [
    "# file = open(\"example.txt\")\n",
    "correct = 31\n",
    "file = open(\"test.txt\")\n",
    "res = 0\n",
    "\n",
    "lines = file.readlines()\n",
    "\n",
    "list1 = []\n",
    "list2 = []\n",
    "for l in lines:\n",
    "    spl = [int(x) for x in l.split(\"   \")]\n",
    "    # for i in range(len(spl)):\n",
    "    #     spl[i] = int(spl[i])\n",
    "    print(spl)\n",
    "    list1.append(spl[0])\n",
    "    list2.append(spl[1])\n",
    "\n",
    "\n",
    "list1.sort()\n",
    "list2.sort()\n",
    "\n",
    "for i in range(len(list1)):\n",
    "    sim = 0;\n",
    "    for j in range(len(list1)):\n",
    "        if(list1[i] == list2[j]):\n",
    "            sim += 1\n",
    "    res += sim * list1[i]\n",
    "\n",
    "\n",
    "print(list1)\n",
    "print(list2)\n",
    "\n",
    "if res == correct:\n",
    "    print(f\"Correct: {res}\")\n",
    "else:\n",
    "    print(f\"Not correct, res {res}, correct {correct}\")"
   ]
  }
 ],
 "metadata": {
  "kernelspec": {
   "display_name": "Python 3",
   "language": "python",
   "name": "python3"
  },
  "language_info": {
   "codemirror_mode": {
    "name": "ipython",
    "version": 3
   },
   "file_extension": ".py",
   "mimetype": "text/x-python",
   "name": "python",
   "nbconvert_exporter": "python",
   "pygments_lexer": "ipython3",
   "version": "3.12.0"
  }
 },
 "nbformat": 4,
 "nbformat_minor": 2
}
