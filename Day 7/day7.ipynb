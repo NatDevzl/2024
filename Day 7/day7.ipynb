{
 "cells": [
  {
   "cell_type": "code",
   "execution_count": null,
   "metadata": {},
   "outputs": [],
   "source": [
    "import numpy as np\n",
    "import re\n",
    "from pprint import pprint\n",
    "from enum import Enum\n",
    "from tqdm import tqdm"
   ]
  },
  {
   "cell_type": "markdown",
   "metadata": {},
   "source": [
    "## Part 1"
   ]
  },
  {
   "cell_type": "code",
   "execution_count": null,
   "metadata": {},
   "outputs": [],
   "source": [
    "# file = open(\"example.txt\")\n",
    "file = open(\"test.txt\")\n",
    "\n",
    "correct = 3749\n",
    "res = 0\n",
    "\n",
    "lines = file.readlines()\n",
    "file.close()\n",
    "\n",
    "values = []\n",
    "pos = []\n",
    "\n",
    "for l in lines:\n",
    "    number, rest = l.strip().split(':')\n",
    "    parsed_line = [int(number)] + [int(x) for x in rest.strip().split()]\n",
    "    values.append(parsed_line)\n",
    "\n",
    "pprint(values)\n",
    "\n",
    "answer = 0\n",
    "\n",
    "def calc(eq):\n",
    "     ans = eq[0]\n",
    "     if len(eq) == 2:\n",
    "          return ans == eq[1]\n",
    "     else:\n",
    "          eq1 = eq.copy()\n",
    "          eq2 = eq.copy()\n",
    "          eq1[1] += eq1.pop(2)\n",
    "          eq2[1] *= eq2.pop(2)\n",
    "          return calc(eq1) or calc(eq2)\n",
    "\n",
    "for x in values:\n",
    "     if calc(x) :\n",
    "          res += x[0]\n",
    "\n",
    "\n",
    "if res == correct:\n",
    "    print(f\"Correct: {res}\")\n",
    "else:\n",
    "    print(f\"Not correct, res {res}, correct {correct}\")"
   ]
  },
  {
   "cell_type": "markdown",
   "metadata": {},
   "source": [
    "## Part 2"
   ]
  },
  {
   "cell_type": "code",
   "execution_count": null,
   "metadata": {},
   "outputs": [],
   "source": [
    "# file = open(\"example.txt\")\n",
    "file = open(\"test.txt\")\n",
    "\n",
    "correct = 11387\n",
    "res = 0\n",
    "\n",
    "lines = file.readlines()\n",
    "file.close()\n",
    "\n",
    "values = []\n",
    "pos = []\n",
    "\n",
    "for l in lines:\n",
    "    number, rest = l.strip().split(':')\n",
    "    parsed_line = [int(number)] + [int(x) for x in rest.strip().split()]\n",
    "    values.append(parsed_line)\n",
    "\n",
    "pprint(values)\n",
    "\n",
    "answer = 0\n",
    "\n",
    "def calc(eq):\n",
    "     ans = eq[0]\n",
    "     if len(eq) == 2:\n",
    "          return ans == eq[1]\n",
    "     else:\n",
    "          eq1 = eq.copy()\n",
    "          eq2 = eq.copy()\n",
    "          eq3 = eq.copy()\n",
    "\n",
    "          eq1[1] += eq1.pop(2)\n",
    "          eq2[1] *= eq2.pop(2)\n",
    "          eq3[1] = int(str(eq3[1]) + str(eq3.pop(2)))\n",
    "          return calc(eq1) or calc(eq2) or calc(eq3)\n",
    "\n",
    "for x in values:\n",
    "     if calc(x) :\n",
    "          res += x[0]\n",
    "\n",
    "\n",
    "if res == correct:\n",
    "    print(f\"Correct: {res}\")\n",
    "else:\n",
    "    print(f\"Not correct, res {res}, correct {correct}\")"
   ]
  }
 ],
 "metadata": {
  "kernelspec": {
   "display_name": "Python 3",
   "language": "python",
   "name": "python3"
  },
  "language_info": {
   "codemirror_mode": {
    "name": "ipython",
    "version": 3
   },
   "file_extension": ".py",
   "mimetype": "text/x-python",
   "name": "python",
   "nbconvert_exporter": "python",
   "pygments_lexer": "ipython3",
   "version": "3.12.0"
  }
 },
 "nbformat": 4,
 "nbformat_minor": 2
}
