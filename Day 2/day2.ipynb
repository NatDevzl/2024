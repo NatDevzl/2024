{
 "cells": [
  {
   "cell_type": "code",
   "execution_count": 4,
   "metadata": {},
   "outputs": [],
   "source": [
    "import numpy as np"
   ]
  },
  {
   "cell_type": "markdown",
   "metadata": {},
   "source": [
    "#Part 1"
   ]
  },
  {
   "cell_type": "code",
   "execution_count": 43,
   "metadata": {},
   "outputs": [
    {
     "name": "stdout",
     "output_type": "stream",
     "text": [
      "Correct: 2\n"
     ]
    }
   ],
   "source": [
    "file = open(\"example.txt\")\n",
    "# file = open(\"test.txt\")\n",
    "correct = 2\n",
    "\n",
    "lines = file.readlines()\n",
    "\n",
    "file.close()\n",
    "\n",
    "list1 = [list(map(int, line.split())) for line in lines]\n",
    "\n",
    "res = 0  \n",
    "\n",
    "for row in list1:\n",
    "    safe = True \n",
    "    if row[1] > row[0]:\n",
    "        inc = True\n",
    "    else:\n",
    "        inc = False\n",
    "\n",
    "    for i in range(len(row) - 1):\n",
    "        diff = row[i + 1] - row[i]\n",
    "        if abs(diff) < 1 or abs(diff) > 3:  \n",
    "            safe = False\n",
    "            break \n",
    "        \n",
    "        if inc and row[i + 1] < row[i]:\n",
    "            safe = False\n",
    "            break\n",
    "        if not inc and row[i+1] > row[i]:\n",
    "            safe = False\n",
    "            break\n",
    "\n",
    "    if safe: \n",
    "        res += 1\n",
    "\n",
    "if res == correct:\n",
    "    print(f\"Correct: {res}\")\n",
    "else:\n",
    "    print(f\"Not correct, res {res}, correct {correct}\")\n"
   ]
  },
  {
   "cell_type": "markdown",
   "metadata": {},
   "source": [
    "#Part 2"
   ]
  },
  {
   "cell_type": "code",
   "execution_count": 44,
   "metadata": {},
   "outputs": [
    {
     "name": "stdout",
     "output_type": "stream",
     "text": [
      "Not correct, res 349, correct 4\n"
     ]
    }
   ],
   "source": [
    "# file = open(\"example.txt\")\n",
    "file = open(\"test.txt\")\n",
    "correct = 4\n",
    "\n",
    "lines = file.readlines()\n",
    "\n",
    "file.close()\n",
    "\n",
    "list1 = [list(map(int, line.split())) for line in lines]\n",
    "# list1 = [[1, 3, 2, 4, 5]]\n",
    "\n",
    "res = 0  \n",
    "\n",
    "for row in list1:\n",
    "    for i in range(len(row)):\n",
    "        without_level = row.copy()\n",
    "        without_level.pop(i)\n",
    "        safe = True\n",
    "        # print(without_level)\n",
    "        inc = None\n",
    "        if without_level[1] > without_level[0]:\n",
    "            inc = True\n",
    "        else:\n",
    "            inc = False\n",
    "        for j in range(len(without_level) - 1):\n",
    "            diff = without_level[j + 1] - without_level[j]\n",
    "            if abs(diff) < 1 or abs(diff) > 3:\n",
    "                safe = False\n",
    "                break  \n",
    "            if inc and without_level[j + 1] < without_level[j]:\n",
    "                safe = False\n",
    "                break\n",
    "            if not inc and without_level[j+1] > without_level[j]:\n",
    "                safe = False\n",
    "                break\n",
    "        if safe:\n",
    "            break\n",
    "    if safe: \n",
    "        res += 1\n",
    "\n",
    "if res == correct:\n",
    "    print(f\"Correct: {res}\")\n",
    "else:\n",
    "    print(f\"Not correct, res {res}, correct {correct}\")\n"
   ]
  }
 ],
 "metadata": {
  "kernelspec": {
   "display_name": "Python 3",
   "language": "python",
   "name": "python3"
  },
  "language_info": {
   "codemirror_mode": {
    "name": "ipython",
    "version": 3
   },
   "file_extension": ".py",
   "mimetype": "text/x-python",
   "name": "python",
   "nbconvert_exporter": "python",
   "pygments_lexer": "ipython3",
   "version": "3.12.0"
  }
 },
 "nbformat": 4,
 "nbformat_minor": 2
}
