{
 "cells": [
  {
   "cell_type": "code",
   "execution_count": 1,
   "metadata": {},
   "outputs": [],
   "source": [
    "import numpy as np\n",
    "import re\n",
    "from pprint import pprint\n",
    "from enum import Enum\n",
    "from tqdm import tqdm\n",
    "from collections import defaultdict"
   ]
  },
  {
   "cell_type": "markdown",
   "metadata": {},
   "source": [
    "## Part 1"
   ]
  },
  {
   "cell_type": "code",
   "execution_count": null,
   "metadata": {},
   "outputs": [],
   "source": [
    "file = open(\"example.txt\")\n",
    "file = open(\"test.txt\")\n",
    "\n",
    "lines = file.readlines()\n",
    "correct = 55312\n",
    "file.close()\n",
    "\n",
    "stones = [int(x) for x in lines[0].split(\" \")]\n",
    "\n",
    "for blink in range(25):\n",
    "    new_stones = []\n",
    "    for s in stones:\n",
    "        if s == 0:\n",
    "            new_stones.append(1)\n",
    "        elif len(str(s)) % 2 == 0:\n",
    "            new_stones.append(int(str(s)[:len(str(s))//2]))\n",
    "            new_stones.append(int(str(s)[len(str(s))//2:]))\n",
    "        else:\n",
    "            new_stones.append(s*2024)\n",
    "    stones = new_stones\n",
    "\n",
    "res = len(stones)\n",
    "if res == correct:\n",
    "    print(f\"Correct: {res}\")\n",
    "else:\n",
    "    print(f\"Not correct, res {res}, correct {correct}\")\n"
   ]
  },
  {
   "cell_type": "markdown",
   "metadata": {},
   "source": [
    "## Part 2"
   ]
  },
  {
   "cell_type": "code",
   "execution_count": null,
   "metadata": {},
   "outputs": [],
   "source": [
    "file = open(\"example.txt\")\n",
    "file = open(\"test.txt\")\n",
    "\n",
    "lines = file.readlines()\n",
    "correct = 55312\n",
    "file.close()\n",
    "\n",
    "stones_or = [int(x) for x in lines[0].split(\" \")]\n",
    "stones = defaultdict(int)\n",
    "for s in stones_or:\n",
    "    stones[s] += 1\n",
    "\n",
    "for blink in range(75):\n",
    "    new_stones = defaultdict(int)\n",
    "    for s in stones:\n",
    "        if s == 0:\n",
    "            new_stones[1] += stones[s]\n",
    "        elif len(str(s)) % 2 == 0:\n",
    "            new_stones[(int(str(s)[:len(str(s))//2]))] += stones[s]\n",
    "            new_stones[(int(str(s)[len(str(s))//2:]))] += stones[s]\n",
    "        else:\n",
    "            new_stones[s*2024] += stones[s]\n",
    "    stones = new_stones\n",
    "            \n",
    "res = sum(stones.values())\n",
    "if res == correct:\n",
    "    print(f\"Correct: {res}\")\n",
    "else:\n",
    "    print(f\"Not correct, res {res}, correct {correct}\")\n"
   ]
  },
  {
   "cell_type": "code",
   "execution_count": null,
   "metadata": {},
   "outputs": [],
   "source": []
  }
 ],
 "metadata": {
  "kernelspec": {
   "display_name": "Python 3",
   "language": "python",
   "name": "python3"
  },
  "language_info": {
   "codemirror_mode": {
    "name": "ipython",
    "version": 3
   },
   "file_extension": ".py",
   "mimetype": "text/x-python",
   "name": "python",
   "nbconvert_exporter": "python",
   "pygments_lexer": "ipython3",
   "version": "3.12.0"
  }
 },
 "nbformat": 4,
 "nbformat_minor": 2
}
